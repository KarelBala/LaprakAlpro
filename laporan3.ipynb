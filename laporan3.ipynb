{
 "cells": [
  {
   "cell_type": "markdown",
   "metadata": {},
   "source": [
    "Latihan 3.1"
   ]
  },
  {
   "cell_type": "code",
   "execution_count": 34,
   "metadata": {},
   "outputs": [
    {
     "name": "stdout",
     "output_type": "stream",
     "text": [
      "Anda tidak Demam\n"
     ]
    }
   ],
   "source": [
    "try:#pengimplemtasian jika ada kesalahan.\n",
    "    suhu = int(input('Masukkkan suhu tubuh(minimal 20) : '))#Membuat penginputan variabel suhu dengan tipe integer. \n",
    "    # Membuat percabangan if else.\n",
    "    if suhu >= 38: #Percabangan if dengan expression boolean perbandingan jika suhu lebih dari / sama dengan 38.\n",
    "        print ('Anda Demam') # Hasil Output jika memenuhi kondisi if akan mencetak 'Anda Demam'.\n",
    "    elif suhu < 38 : #Lanjutan percabangan jika tidak memenuhi kondisi if dengan menggunakan elif \n",
    "        print ('Anda tidak Demam') # Hasil Output jika tidak memenuhi kondisi if pertama.\n",
    "except:#pengimplemtasian jika ada kesalahan\n",
    "    print ('Anda tidak memasukan Data yang sesuai') #Hasil Output Jika terjadi Kesalahan input."
   ]
  },
  {
   "cell_type": "code",
   "execution_count": 35,
   "metadata": {},
   "outputs": [
    {
     "name": "stdout",
     "output_type": "stream",
     "text": [
      "Anda tidak Memasukkan Bilangan Bulat\n"
     ]
    }
   ],
   "source": [
    "try: #pengimplemtasian jika ada kesalahan.\n",
    "    bilangan = int(input('Masukkan Bilangan Bulat : ')) #Membuat penginputan variabel bilangan dengan tipe integer.\n",
    "     # Membuat percabangan if else.\n",
    "    if bilangan > 0: #Percabangan if dengan expression boolean perbandingan jika bilangan lebih dari 0.\n",
    "        print ('Positif') # Hasil Output jika memenuhi kondisi if.\n",
    "    elif bilangan < 0:#Lanjutan percabangan jika tidak memenuhi kondisi if.\n",
    "        print ('Negatif') # Hasil Output jika memenuhi kondisi pertama.\n",
    "    elif bilangan == 0:#Lanjutan percabangan jika tidak memenuhi kondisi elif pertama.\n",
    "        print ('NOL') # Hasil Output jika memenuhi kondisi elif kedua.\n",
    "except : #pengimplemtasian jika ada kesalahan\n",
    "    print (\"Anda tidak Memasukkan Bilangan Bulat\")#Hasil Output Jika terjadi Kesalahan input."
   ]
  },
  {
   "cell_type": "code",
   "execution_count": 39,
   "metadata": {},
   "outputs": [
    {
     "name": "stdout",
     "output_type": "stream",
     "text": [
      "Masukkanlah Bilangan Bulat\n"
     ]
    }
   ],
   "source": [
    "try: #pengimplemtasian jika ada kesalahan.\n",
    "    a = int(input('Masukkan bilangan pertama : ')) #Membuat penginputan variabel bilangan pertama dengan tipe integer.\n",
    "    b = int(input('Masukkan bilangan kedua   : ')) #Membuat penginputan variabel bilangan kedua dengan tipe integer.\n",
    "    c = int(input('Masukkan bilangan ketiga  : ')) #Membuat penginputan variabel bilangan ketiga dengan tipe integer.\n",
    "    # Membuat percabangan if else.\n",
    "    if a > b and a > c: #Percabangan if dengan expression boolean perbandingan jika variabel a lebih besar dari b dan c.\n",
    "        print ('Terbesar : ', a) # Hasil Output jika a adalah bilangan terbesar.\n",
    "    elif b > a and b > c: #Percabangan elif dengan expression boolean perbandingan jika variabel b lebih besar dari a dan c.\n",
    "        print ('Terbesar : ', b) # Hasil Output jika b adalah bilangan terbesar.\n",
    "    elif c > a and c > b: #Percabangan elif dengan expression boolean perbandingan jika variabel c lebih besar dari a dan b.\n",
    "        print ('Terbesar : ', c) # Hasil Output jika v adalah bilangan terbesar.\n",
    "except: #pengimplemtasian jika ada kesalahan\n",
    "    print (\"Masukkanlah Bilangan Bulat\")#Hasil Output Jika terjadi Kesalahan input."
   ]
  },
  {
   "cell_type": "markdown",
   "metadata": {},
   "source": [
    "Latihan 3.2"
   ]
  },
  {
   "cell_type": "code",
   "execution_count": 19,
   "metadata": {},
   "outputs": [
    {
     "name": "stdout",
     "output_type": "stream",
     "text": [
      "NOL\n"
     ]
    }
   ],
   "source": [
    "try: #pengimplemtasian jika ada kesalahan\n",
    "    bilangan = int(input('Masukkan Bilangan Bulat : ')) #Membuat penginputan variabel bilangan dengan tipe integer.\n",
    "    #berikut ini adalah sintaks alternatif berupa ternary operator dari contoh 3.2 \n",
    "    print ('Positif') if bilangan > 0 else print ('Negatif') if bilangan < 0 else print ('NOL') if bilangan == 0 else 0\n",
    "except : #pengimplemtasian jika ada kesalahan\n",
    "    print (\"Anda tidak Memasukkan Bilangan Bulat\")#Hasil Output Jika terjadi Kesalahan input."
   ]
  },
  {
   "cell_type": "markdown",
   "metadata": {},
   "source": [
    "Latihan 3.3"
   ]
  },
  {
   "cell_type": "code",
   "execution_count": 42,
   "metadata": {},
   "outputs": [
    {
     "name": "stdout",
     "output_type": "stream",
     "text": [
      "Anda Tidak Memasukkan Bulan dengan Benar\n"
     ]
    }
   ],
   "source": [
    "try: #pengimplemtasian jika ada kesalahan\n",
    "    bulan = int(input('Masukkan Bulan (1-12) : ')) #Membuat penginputan variabel bilangan dengan tipe integer.\n",
    "    # Membuat percabangan if else.\n",
    "    if bulan >= 1 and bulan <= 12: #pengimplemtasian kesalahn jika pengguna menginputkan bukan 1-12.\n",
    "        # Membuat percabangan if else.\n",
    "        if bulan == 1 or bulan == 3 or bulan == 5 or bulan == 7 or bulan == 8 or bulan == 10 or bulan == 12:\n",
    "        # Membuat if dengan kondisi jikan bulan sama dengan 1,3,5,7,8,10, atau 12.\n",
    "            print ('Jumlah Hari : 31') # Hasil Output Jika Kondisi if Terpenuhi.\n",
    "        elif bulan == 2: # Membuat elif dengan kondisi jikan bulan sama dengan 2.\n",
    "            print ('Jumlah Hari : 29') # Hasil Output Jika Kondisi elif pertama Terpenuhi.\n",
    "        elif bulan == 4 or bulan == 6 or bulan == 9 or bulan == 11: \n",
    "        # Membuat elif dengan kondisi jikan bulan sama dengan 4,6,9, atau 11.\n",
    "            print ('Jumlah Hari : 30') # Hasil Output Jika Kondisi elif kedua Terpenuhi.\n",
    "    else: #pengimplemtasian kesalahan jika pengguna menginputkan bukan 1-12.\n",
    "        print (\"Anda tidak memasukkan Bulan 1-12\")\n",
    "except: #pengimplemtasian jika ada kesalahan\n",
    "    print(\"Anda Tidak Memasukkan Bulan dengan Benar\")#Hasil Output Jika terjadi Kesalahan input.\n",
    "        "
   ]
  },
  {
   "cell_type": "markdown",
   "metadata": {},
   "source": [
    "Latihan 3.4"
   ]
  },
  {
   "cell_type": "code",
   "execution_count": 45,
   "metadata": {},
   "outputs": [
    {
     "name": "stdout",
     "output_type": "stream",
     "text": [
      "Input Anda Tidak Valid\n"
     ]
    }
   ],
   "source": [
    "try: #pengimplemtasian jika ada kesalahan\n",
    "    a = int(input('Masukkan Bilangan Bulat 1 : ')) #Membuat penginputan variabel bilangan pertama dengan tipe integer.\n",
    "    b = int(input('Masukkan Bilangan Bulat 2 : ')) #Membuat penginputan variabel bilangan kedua dengan tipe integer.\n",
    "    c = int(input('Masukkan Bilangan Bulat 3 : ')) #Membuat penginputan variabel bilangan ketiga dengan tipe integer.\n",
    "    # Membuat percabangan if else.\n",
    "    if a == b and b == c: # membuat if dengan konsisi a sama dengan b dan b sama dengan c,\n",
    "        print ('3 sisi sama') # Hasil Output jika kondisi if terpenuhi.\n",
    "    elif a == b and b != c or a == c and c != b or b == c and c != a:\n",
    "    # Membuat elif dengan kondisi a sama dengan b dan b tidak sama dengan c atau \n",
    "    #                             a sama dengan c dan c tidak sama dengan b atau\n",
    "    #                             b sama dengan c dan c tidak sama dengan a.\n",
    "        print ('2 sisi sama') # Hasil Output jika kondisi elif pertama terpenuhi.\n",
    "    elif a != b and b != c: # Membuat elif dengan kondisi a tidak sama dengan b dan b tidak sama dengan c.\n",
    "        print ('Tidak ada yang sama') # Hasil Output jika kondisi elif terpenuhi.\n",
    "except: #pengimplemtasian jika ada kesalahan\n",
    "    print ('Input Anda Tidak Valid')#Hasil Output Jika terjadi Kesalahan input.s\n",
    "    "
   ]
  }
 ],
 "metadata": {
  "kernelspec": {
   "display_name": "Python 3",
   "language": "python",
   "name": "python3"
  },
  "language_info": {
   "codemirror_mode": {
    "name": "ipython",
    "version": 3
   },
   "file_extension": ".py",
   "mimetype": "text/x-python",
   "name": "python",
   "nbconvert_exporter": "python",
   "pygments_lexer": "ipython3",
   "version": "3.10.7"
  }
 },
 "nbformat": 4,
 "nbformat_minor": 2
}
