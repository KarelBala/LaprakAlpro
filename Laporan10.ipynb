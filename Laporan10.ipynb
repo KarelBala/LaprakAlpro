{
 "cells": [
  {
   "cell_type": "code",
   "execution_count": null,
   "metadata": {},
   "outputs": [],
   "source": [
    "def nilai_terbaik(deret_bilangan):\n",
    "    deret_bilangan.sort(reverse=True) #mengurutkan nilai dari yang terbesar ke terkecil\n",
    "    nilai_terbaik = deret_bilangan[:3] #mengambil nilai dari 3 terbaik\n",
    "    return nilai_terbaik #mengembalikan nilai dari nilai terbaik\n",
    "\n",
    "\n",
    "angka_masukan = input('Masukkan deretan angka dipisahkan dengan \",\" : ') \n",
    "#membuat inputan angka yang dipishkan dengan koma\n",
    "angka = angka_masukan.split(',') #menjadikkannya sebuah list\n",
    "terbaik = nilai_terbaik(angka) #memanggil fungsi\n",
    "\n",
    "print(\"3 nilai terbaik:\", terbaik) #Output hasil akhir\n"
   ]
  },
  {
   "cell_type": "code",
   "execution_count": 1,
   "metadata": {},
   "outputs": [
    {
     "name": "stdout",
     "output_type": "stream",
     "text": [
      "Nilai maksimum: 50.0\n",
      "Nilai minimum: 10.0\n"
     ]
    }
   ],
   "source": [
    "def main():\n",
    "    angka = [] #mempersiakan list kosong \n",
    "    while True: #menggunakan fungsi while jika true akan terus memasukka input\n",
    "        masukan = input(\"Masukkan angka (ketik 'done' untuk selesai): \")\n",
    "        if masukan.lower() == 'done': #jika done maka akan break dan terhenti\n",
    "            break\n",
    "        try:\n",
    "            angka.append(float(masukan))\n",
    "        except ValueError:\n",
    "            print(\"Masukan harus berupa angka atau 'done'.\")\n",
    "\n",
    "    if angka:  \n",
    "        nilai_maksimum = max(angka) #mencari nila maksimum\n",
    "        nilai_minimum = min(angka) #mencari nilai minimum\n",
    "        print(f\"Nilai maksimum: {nilai_maksimum}\")\n",
    "        print(f\"Nilai minimum: {nilai_minimum}\")\n",
    "    else:\n",
    "        print(\"Tidak ada angka yang dimasukkan.\") #jika tidak ada angka yang dimasukkan\n",
    "\n",
    "if __name__ == \"__main__\":\n",
    "    main()\n"
   ]
  }
 ],
 "metadata": {
  "kernelspec": {
   "display_name": "Python 3",
   "language": "python",
   "name": "python3"
  },
  "language_info": {
   "codemirror_mode": {
    "name": "ipython",
    "version": 3
   },
   "file_extension": ".py",
   "mimetype": "text/x-python",
   "name": "python",
   "nbconvert_exporter": "python",
   "pygments_lexer": "ipython3",
   "version": "3.11.9"
  }
 },
 "nbformat": 4,
 "nbformat_minor": 2
}
