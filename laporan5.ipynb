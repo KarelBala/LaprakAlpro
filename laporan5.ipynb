{
 "cells": [
  {
   "cell_type": "code",
   "execution_count": 29,
   "metadata": {},
   "outputs": [
    {
     "name": "stdout",
     "output_type": "stream",
     "text": [
      "30\n"
     ]
    }
   ],
   "source": [
    "def perkalian(a, b):#membuat fungsi perkalian / a = 6 dan b = 5\n",
    "    hasil = 0#mendefiniskan hasil sebagai 0 sebagai start\n",
    "    for i in range(b):#membuat perulangan for dengan stop b\n",
    "        hasil += a#membuat hasil akan ditambahkan dengan a sampai stop \n",
    "    return hasil\n",
    "def main():#membuat fungsi main\n",
    "    angka1 = int(input(\"Masukkan angka pertama: \"))#membuat inputan untuk angka 1\n",
    "    angka2 = int(input(\"Masukkan angka kedua: \"))#membuat inputan untuk angka 2\n",
    "    print(perkalian(angka1, angka2))#menampilkan hasil fungsi perkalian()\n",
    "    \n",
    "    \n",
    "if __name__ == \"__main__\":#digunakan untuk memanggil fungsi main()\n",
    "    main()\n"
   ]
  },
  {
   "cell_type": "code",
   "execution_count": 42,
   "metadata": {},
   "outputs": [
    {
     "name": "stdout",
     "output_type": "stream",
     "text": [
      "[97, 95, 93, 91, 89, 87, 85, 83]\n"
     ]
    }
   ],
   "source": [
    "def ganjil(batas_bawah, batas_atas):#membuat fungsi ganjil dengan parameter batas_bawah dan batas_atas\n",
    "    deret = []#membuat array untuk menampung hasil yang akan diberikan\n",
    "    \n",
    "    if batas_bawah > batas_atas:#membuat percabangan if dengan kondisi jika batas bawah lebih besar\n",
    "        for i in range(batas_bawah, batas_atas - 1, -1):#membuat perulangan dengan steps karena mundur\n",
    "            if i % 2 != 0:#membuat percabangan if dengan kondisi modulus 2 untuk mencari ganjil\n",
    "                deret.append(i)#menambahkan ke array deret\n",
    "    else: #jika kondisi if pertama tidak terpenuhi\n",
    "        for i in range(batas_bawah, batas_atas + 1):#membuat perulangan \n",
    "            if i % 2 != 0: #membuat percabangan if dengan kondisi modulus 2 untuk mencari ganjil\n",
    "                deret.append(i)#menambahkan ke array deret\n",
    "    \n",
    "    return deret\n",
    "\n",
    "def main():#membuat fungsi main\n",
    "    batas_bawah = int(input(\"Masukkan batas bawah: \"))#membuat inputan untuk batas bawah / input = 10 / input = 97\n",
    "    batas_atas = int(input(\"Masukkan batas atas: \"))#membuat inputan untuk batas atas / input = 30 / input = 82\n",
    "    print(ganjil(batas_bawah, batas_atas))#mencetak fungsi\n",
    "    \n",
    "\n",
    "if __name__ == \"__main__\":#memanggil fungsi main\n",
    "    main()\n"
   ]
  },
  {
   "cell_type": "code",
   "execution_count": 49,
   "metadata": {},
   "outputs": [
    {
     "name": "stdout",
     "output_type": "stream",
     "text": [
      "IPS yang didapatkan: 2.80\n"
     ]
    }
   ],
   "source": [
    "def hitung_ips(jumlah_matkul):#membuat fungsi hitung_ips\n",
    "    total_sks = jumlah_matkul * 3 #membuat total_sks = jumlah_matkul * 3 karena jumlah sks selalu 3\n",
    "    total_nilai = 0 #definisi awal total nilai\n",
    "    for i in range(jumlah_matkul):#membuat perulangan for dengan stop jumlah_matkul\n",
    "        nilai = input(f\"Masukkan nilai untuk mata kuliah ke-{i+1} (A/B/C/D): \").upper()\n",
    "        #membuat inputan untuk masing masing mata kuliah dengan menambahkan upper agar pengguna dapat memasukkan huruf kecil\n",
    "        #membuat dengan f agar dapat memasukkan i+1 sehingga dapat menjadi seperti urut\n",
    "        if nilai == 'A': #membuat pecabangan untuk menjumlahkan nilai yang didapat\n",
    "            total_nilai += 4 * 3\n",
    "        elif nilai == 'B':\n",
    "            total_nilai += 3 * 3\n",
    "        elif nilai == 'C':\n",
    "            total_nilai += 2 * 3\n",
    "        elif nilai == 'D':\n",
    "            total_nilai += 1 * 3   \n",
    "    ips = total_nilai / total_sks #set ips untuk menghitung ips dengan membagi total nilai dan total sks\n",
    "    return ips#untuk memanggil nilai ips\n",
    "\n",
    "def main():#membuat fungsi main\n",
    "    jumlah_matkul = int(input(\"Masukkan jumlah mata kuliah: \"))#membuat inputan untuk jumlah matkul \n",
    "    ips = hitung_ips(jumlah_matkul)\n",
    "    print(f\"IPS yang didapatkan: {ips:.2f}\")#mencetak ips dengan 2f agar dibulatkan\n",
    "\n",
    "if __name__ == \"__main__\":#memanggil fungsi main()\n",
    "    main()\n"
   ]
  }
 ],
 "metadata": {
  "kernelspec": {
   "display_name": "Python 3",
   "language": "python",
   "name": "python3"
  },
  "language_info": {
   "codemirror_mode": {
    "name": "ipython",
    "version": 3
   },
   "file_extension": ".py",
   "mimetype": "text/x-python",
   "name": "python",
   "nbconvert_exporter": "python",
   "pygments_lexer": "ipython3",
   "version": "3.10.7"
  }
 },
 "nbformat": 4,
 "nbformat_minor": 2
}
