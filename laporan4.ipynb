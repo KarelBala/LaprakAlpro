{
 "cells": [
  {
   "cell_type": "code",
   "execution_count": 25,
   "metadata": {},
   "outputs": [
    {
     "name": "stdout",
     "output_type": "stream",
     "text": [
      "True\n"
     ]
    }
   ],
   "source": [
    "def cek_angka(a, b, c): #Membuat Fungsi cek_angka dengan 3 parameter\n",
    "    if a!= b and a != c and b !=c: #Membuat If dengan kondisi parameter lainnya tidak sama dengan yang lainnya.\n",
    "        if a + b == c: #Membuat If dengan kondisi jika parameter 1 + parameter 2 sama dengan parameter 3. Akan memberi True.\n",
    "            return True #Mengembalikan nilai True\n",
    "        elif a + c == b: #Membuat if dengan kondisi jika parameter 1 + parameter 3 sama dengan parameter 2. Akan memberiTrue.\n",
    "            return True #Mengembalikan nilai True\n",
    "        elif c + b == a: #Membuat if engan kondisi jika parameter 3 + parameter 2 sama dengan parameter 1. Akan memberi True.\n",
    "            return True #Mengembalikan nilai True\n",
    "    else: #Kondisi selain if\n",
    "        return False #Mengembalikan nilai False\n",
    "\n",
    "print(cek_angka(1,2,3)) #Output akan menghasilkan True karena 1+2=3"
   ]
  },
  {
   "cell_type": "code",
   "execution_count": 31,
   "metadata": {},
   "outputs": [
    {
     "name": "stdout",
     "output_type": "stream",
     "text": [
      "True\n"
     ]
    }
   ],
   "source": [
    "def cek_digit_belakang(a, b, c): #Membuat Fungsi cek_digit_belakang dengan 3 parameter.\n",
    "    angkaa = a % 10 #Membuat variabel angka(a) yang berisikan hasil dari modulus dari parameter 1.\n",
    "    angkab = b % 10 #Membuat variabel angka(b) yang berisikan hasil dari modulus dari parameter 2.\n",
    "    angkac = c % 10 #Membuat variabel angka(c) yang berisikan hasil dari modulus dari parameter 3.\n",
    "    if angkaa == angkab or angkaa == angkac or angkab == angkac : \n",
    "        #Membuat if dengan kondisi apakah salah satu dari parameter mempunyai hasil modulus/digit belakang yang sama.\n",
    "        return True #Mengembalikan Nilai True\n",
    "    else: #Kondisi selain if\n",
    "        return False #Mengembalikan Nilai False\n",
    "\n",
    "bila = int(input('Masukkan Bilangan Pertama : ')) #Membuat inputan untuk parameter 1. Input = 835\n",
    "bilb = int(input('Masukkan Bilangan Kedua   : ')) #Membuat inputan untuk parameter 2. Input = 234\n",
    "bilc = int(input('Masukkan Bilangan Ketiga  : ')) #Membuat inputan untuk parameter 3. input = 125\n",
    "print(cek_digit_belakang(bila,bilb,bilc)) #Memanggil fungsi cek_digit_belakang\n",
    "#Output akan memberi nilai True karena Input untuk parameter 1 dan 3 memiliki digit belakang yang sama.\n"
   ]
  },
  {
   "cell_type": "code",
   "execution_count": 10,
   "metadata": {},
   "outputs": [
    {
     "name": "stdout",
     "output_type": "stream",
     "text": [
      "212.0\n"
     ]
    }
   ],
   "source": [
    "celcius_fahrenheit = lambda c : (9/5) * c + 32 #Membuat Fungsi Lambda untuk konversi celcius ke fahrenheit\n",
    "celcius_reamur = lambda c : 0.8 * c #Membuat Fungsi Lambda untuk konversi celcius ke reamur.\n",
    "\n",
    "test_case = int(input('Masukkan Test Case No Berapa (1-3) : ')) #Menentukan Test Case yang diminta\n",
    "if test_case == 1: \n",
    "    c = 100\n",
    "    print(celcius_fahrenheit(c))\n",
    "#Jika test_case = 1 maka akan mengubah 100 celcius ke fahrenheit\n",
    "    # Outputnya adalah 212\n",
    "elif test_case == 2:\n",
    "    c = 80\n",
    "    print(celcius_reamur(c))\n",
    "#Jika test_case = 2 maka akan mengubah 80 celcius ke reamur\n",
    "    # Outputnya adalah 64\n",
    "elif test_case == 3:\n",
    "    c = 0\n",
    "    print(celcius_fahrenheit(c))\n",
    "#Jika test_case = 3 maka akan mengubah 0 celcius ke fahrenheit.\n",
    "    #Outputnya adalah 32"
   ]
  }
 ],
 "metadata": {
  "kernelspec": {
   "display_name": "Python 3",
   "language": "python",
   "name": "python3"
  },
  "language_info": {
   "codemirror_mode": {
    "name": "ipython",
    "version": 3
   },
   "file_extension": ".py",
   "mimetype": "text/x-python",
   "name": "python",
   "nbconvert_exporter": "python",
   "pygments_lexer": "ipython3",
   "version": "3.10.7"
  }
 },
 "nbformat": 4,
 "nbformat_minor": 2
}
