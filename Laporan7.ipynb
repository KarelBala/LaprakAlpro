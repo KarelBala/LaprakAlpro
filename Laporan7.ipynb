{
 "cells": [
  {
   "cell_type": "code",
   "execution_count": null,
   "metadata": {},
   "outputs": [
    {
     "name": "stdout",
     "output_type": "stream",
     "text": [
      "bukan anagram\n"
     ]
    }
   ],
   "source": [
    "def anagram(kata1, kata2): #membuat fungsi anagram dengan parameter kata 1 dan 2\n",
    "    kata1 = kata1.lower() #agar kata 1 dan 2 menjadi huruf kecil\n",
    "    kata2 = kata2.lower()\n",
    "    if sorted(kata1)==sorted(kata2): #membuat kondisi dimana kata 1 dan 2 yang sudah diurutkan apakah sama atau tidak\n",
    "        print ('anagram') #jika sama maka kedua kata terssebut anagram\n",
    "    else:\n",
    "        print('bukan anagram') #jika berbeda maka kedua kata tersebut bukan anagram\n",
    "\n",
    "kata1 = input(\"Masukkan kata pertama : \") #membuat inputan untuk variabel 1 dan 2\n",
    "kata2 = input('Masukkan kata kedua   : ')\n",
    "              \n",
    "(anagram(kata1, kata2)) # memanggil fungsi anagram\n",
    "#kata1 = taat dan kata2 = tatu"
   ]
  },
  {
   "cell_type": "code",
   "execution_count": 2,
   "metadata": {},
   "outputs": [
    {
     "name": "stdout",
     "output_type": "stream",
     "text": [
      "babi ada 2 buah\n"
     ]
    }
   ],
   "source": [
    "def hitung_kata(kalimat, kata): #membuat fungsi hitung kata dengn paramter kalimat dan kata\n",
    "    kalimat = kalimat.lower() #mengecilkan semua huruf\n",
    "    jumlah = kalimat.split() #memisahkan kata kata\n",
    "    \n",
    "    i = 0 #mendefinisikan jmlah awal\n",
    "    for k in jumlah: #membuat perulangan untuk menambah i seiap ditemukannya kata yg dicari\n",
    "        if k == kata:\n",
    "            i += 1\n",
    "    return i\n",
    "\n",
    "kalimat = input('Masukkan Kalimat : ') #membuat inputan untuk kalimat yg diketahui\n",
    "cari = input('Kata apa yang dicari? = ') #membuat input untuk mengetahui apa yg ingin dicari\n",
    "\n",
    "frekuensi = hitung_kata(kalimat, cari) #mendefinisikan fungsi hitung_kata agar dapat mejadi variabel\n",
    "print(f\"{cari} ada {frekuensi} buah\")\n",
    "#input kalimat : saya suka babi babi\n",
    "#input cari : babi\n"
   ]
  },
  {
   "cell_type": "code",
   "execution_count": 9,
   "metadata": {},
   "outputs": [
    {
     "name": "stdout",
     "output_type": "stream",
     "text": [
      "Output: 3 3 3 3 3 3\n"
     ]
    }
   ],
   "source": [
    "def hapus_lebih(kalimat):\n",
    "    kalimat_baru = \"\"  #inisialisasi variabel untuk menyimpan kalimat tanpa spasi berlebih\n",
    "    jika_spasi = False  #digunakan untuk mengecek apakah spasi atau tidak\n",
    "    for i in kalimat:  #perulangan untuk memeriksa setiap karaker pd string\n",
    "        if i == \" \":  #memeriksa apakah karakter saat ini adalah spasi\n",
    "            if not jika_spasi:  # Jika karakter sebelumnya bukan spasi,\n",
    "                kalimat_baru += i \n",
    "                jika_spasi = True  \n",
    "        else:  # Jika karakter saat ini bukan spasi,\n",
    "            kalimat_baru += i  \n",
    "            jika_spasi = False  \n",
    "\n",
    "    return kalimat_baru  #mengembalikan kalimat baru\n",
    "\n",
    "kalimat = input(\"Masukkan kalimat: \")  #membuat inputan untuk kalimat\n",
    "kalimat_normal = hapus_lebih(kalimat)  #memanggil fungsi untuk menghapus spasi berlebih dalam kalimat\n",
    "print(\"Output:\", kalimat_normal) \n",
    "#input kalimat = '3  3   3     3    3    3 ' \n",
    "\n"
   ]
  },
  {
   "cell_type": "code",
   "execution_count": 6,
   "metadata": {},
   "outputs": [
    {
     "name": "stdout",
     "output_type": "stream",
     "text": [
      "Terpendek: aa\n",
      "Terpanjang: bbbb\n"
     ]
    }
   ],
   "source": [
    "def pendekpanjang(kalimat):\n",
    "    posisi = kalimat.split() #memisahkan kalimat\n",
    "    pendek = posisi[0] #inisalisasi pendek dan panjang \n",
    "    panjang = posisi[0]\n",
    "\n",
    "    for i in posisi: #membuat perulangan agar diketahui kata yang pendek dan panjang dari indeks masing masing kata pada str\n",
    "        if len(i) < len(pendek):\n",
    "            pendek = i\n",
    "        elif len(i) > len(panjang):\n",
    "            panjang = i\n",
    "\n",
    "    return pendek, panjang #mengbalikan nilai pendek dan panjang\n",
    "\n",
    "kalimat = input(\"Masukkan kalimat: \") #membuat input untuk kalimat\n",
    "pendek, panjang = pendekpanjang(kalimat) #memanggil nilai pendek dan panjang\n",
    "print(\"Terpendek:\", pendek)\n",
    "print(\"Terpanjang:\", panjang)\n",
    "#input kaimat : aa ccc bbbb \n"
   ]
  },
  {
   "cell_type": "code",
   "execution_count": null,
   "metadata": {},
   "outputs": [],
   "source": []
  }
 ],
 "metadata": {
  "kernelspec": {
   "display_name": "Python 3",
   "language": "python",
   "name": "python3"
  },
  "language_info": {
   "codemirror_mode": {
    "name": "ipython",
    "version": 3
   },
   "file_extension": ".py",
   "mimetype": "text/x-python",
   "name": "python",
   "nbconvert_exporter": "python",
   "pygments_lexer": "ipython3",
   "version": "3.11.8"
  }
 },
 "nbformat": 4,
 "nbformat_minor": 2
}
