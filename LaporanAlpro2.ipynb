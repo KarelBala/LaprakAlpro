{
 "cells": [
  {
   "cell_type": "markdown",
   "id": "75edac5b",
   "metadata": {},
   "source": [
    "Soal Mandiri 1"
   ]
  },
  {
   "cell_type": "code",
   "execution_count": 13,
   "id": "f0746836",
   "metadata": {},
   "outputs": [
    {
     "name": "stdout",
     "output_type": "stream",
     "text": [
      "Berat Badan anda Adalah  : 61.00 kg\n"
     ]
    }
   ],
   "source": [
    "tinggi = float(input(\"Masukkan Berat Badan Anda : \")) \n",
    "jumlah_bmi = float(input(\"Masukkan Tinggi Badan Anda : \"))\n",
    "cm_m = tinggi/100\n",
    "berat_badan = round(jumlah_bmi*cm_m**2)\n",
    "print (\"Berat Badan anda Adalah  : %.2f\"% berat_badan, \"kg\")"
   ]
  },
  {
   "cell_type": "markdown",
   "id": "6251ff27",
   "metadata": {},
   "source": [
    "Soal Mandiri 2"
   ]
  },
  {
   "cell_type": "code",
   "execution_count": 14,
   "id": "967af805",
   "metadata": {},
   "outputs": [
    {
     "name": "stdout",
     "output_type": "stream",
     "text": [
      "Hasil dari fungsi f(x) yaitu  83.0\n"
     ]
    }
   ],
   "source": [
    "x = int(input(\"Masukkan Nilai X = \"))\n",
    "f = 2*x**3 + 2*x**2 + 2*x + (15/x)\n",
    "print (\"Hasil dari fungsi f(x) yaitu \", f)"
   ]
  },
  {
   "cell_type": "markdown",
   "id": "1d283ff4",
   "metadata": {},
   "source": [
    "Soal Mandiri 3"
   ]
  },
  {
   "cell_type": "code",
   "execution_count": 38,
   "id": "8b85e9ad",
   "metadata": {},
   "outputs": [
    {
     "name": "stdout",
     "output_type": "stream",
     "text": [
      "Pendapatan Budi selama libur musim panas sebelum melakukan pembayaran pajak :  250000.0\n",
      "Pendapatan Budi selama libur musim panas setelah melakukan pembayaran pajak :  215000.0\n",
      "Jumalah uang yang akan Budi habiskan untuk membeli pakaian dan aksesoris :  21500.0\n",
      "Jumlah uang yang akan Budi habiskan untukk membeli alat tulis :  2150.0\n",
      "Sisa uang setelah membeli Pakaian, Aksesoris ,dan Alat Tulis :  191350.0\n",
      "Jumlah uang yang akan Budi sedekahkan :  47837.5\n",
      "Jumlah uang yang akan diterima Anak Yatim :  14351\n",
      "Jumlah uang yang akan diterima kaum Dhuafa :  33486.25\n",
      "Gaji Sisa :  143512.5\n"
     ]
    }
   ],
   "source": [
    "gaji_per_jam = float(input(\"Masukkan Gaji per Jam yang Anda inginkan : \"))\n",
    "hari_per_minggu = int(input(\"Masukkan Berapa Hari Anda Bekerja per Minggu : \"))\n",
    "jam_per_hari = float(input(\"Masukkan Berapa Jam Anda Bekerja per Hari : \"))\n",
    "total_jam = hari_per_minggu * jam_per_hari \n",
    "gaji_per_minggu = gaji_per_jam * total_jam\n",
    "gaji_per_lima_minggu = gaji_per_minggu * 5\n",
    "print (\"Pendapatan Budi selama libur musim panas sebelum melakukan pembayaran pajak : \", gaji_per_lima_minggu)\n",
    "\n",
    "gaji_buat_pajak = (gaji_per_lima_minggu * 14)/100\n",
    "gaji_abis_pajak = gaji_per_lima_minggu - gaji_buat_pajak\n",
    "print (\"Pendapatan Budi selama libur musim panas setelah melakukan pembayaran pajak : \", gaji_abis_pajak)\n",
    "\n",
    "gaji_buat_aksesoris = (gaji_abis_pajak * 10)/100\n",
    "gaji_abis_aksesoris = gaji_abis_pajak - gaji_buat_aksesoris\n",
    "gaji_aksesoris = gaji_abis_pajak - gaji_abis_aksesoris\n",
    "print (\"Jumalah uang yang akan Budi habiskan untuk membeli pakaian dan aksesoris : \", gaji_aksesoris)\n",
    "\n",
    "gaji_buat_altul = (gaji_abis_pajak * 1)/100\n",
    "gaji_abis_altul = gaji_abis_pajak - gaji_buat_altul\n",
    "gaji_altul = gaji_abis_pajak - gaji_abis_altul\n",
    "print (\"Jumlah uang yang akan Budi habiskan untukk membeli alat tulis : \", gaji_altul)\n",
    "\n",
    "gaji_setelah_akal = gaji_abis_pajak - (gaji_aksesoris + gaji_altul)\n",
    "print (\"Sisa uang setelah membeli Pakaian, Aksesoris ,dan Alat Tulis : \", gaji_setelah_akal)\n",
    "\n",
    "gaji_buat_sedekah = (gaji_setelah_akal * 25)/100\n",
    "gaji_abis_sedekah = gaji_setelah_akal - gaji_buat_sedekah\n",
    "gaji_sedekah = gaji_setelah_akal - gaji_abis_sedekah\n",
    "print (\"Jumlah uang yang akan Budi sedekahkan : \", gaji_sedekah)\n",
    "\n",
    "gaji_per_seribu = (gaji_sedekah/1000)*(30/100)*1000\n",
    "print (\"Jumlah uang yang akan diterima Anak Yatim : \", round(gaji_per_seribu))\n",
    "\n",
    "gaji_dhuafa = gaji_sedekah - gaji_per_seribu\n",
    "print (\"Jumlah uang yang akan diterima kaum Dhuafa : \", gaji_dhuafa)\n",
    "\n",
    "gaji_sisaan = gaji_setelah_akal - gaji_sedekah\n",
    "print (\"Gaji Sisa : \", gaji_sisaan)\n"
   ]
  }
 ],
 "metadata": {
  "kernelspec": {
   "display_name": "Python 3 (ipykernel)",
   "language": "python",
   "name": "python3"
  },
  "language_info": {
   "codemirror_mode": {
    "name": "ipython",
    "version": 3
   },
   "file_extension": ".py",
   "mimetype": "text/x-python",
   "name": "python",
   "nbconvert_exporter": "python",
   "pygments_lexer": "ipython3",
   "version": "3.12.1"
  }
 },
 "nbformat": 4,
 "nbformat_minor": 5
}
