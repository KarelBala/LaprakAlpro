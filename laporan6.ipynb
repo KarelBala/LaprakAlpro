{
 "cells": [
  {
   "cell_type": "code",
   "execution_count": 11,
   "metadata": {},
   "outputs": [
    {
     "name": "stdout",
     "output_type": "stream",
     "text": [
      "Bilangan Prima terdekat adalah 11\n"
     ]
    }
   ],
   "source": [
    "def prima(bil): #Membuat fungsi untuk mencari bilangan Prima\n",
    "    if bil <= 1: #membuat if dengan kondisi kurang dari 1 akan menghasilkan false karena prima lebih dari 1\n",
    "        return False\n",
    "    for i in range(2, int(bil**0.5)+1): #membuat perulangan dengan awalan 2\n",
    "        if bil % i == 0:#membuat if dengan kondisi yang akan menghasilkan false\n",
    "            return False\n",
    "    return True #Akan return bilangan prima\n",
    "\n",
    "def prima_terdekat(n): #Membuat fungsi untuk menentukan bilangan prima terdekat\n",
    "    bil_prima = n - 1 #Mendefinisikan bil_prima sebagai n - 1\n",
    "    while not prima(bil_prima): #Membuat perulangan while dengan kondisi jika tidak prima\n",
    "        bil_prima -= 1\n",
    "    return bil_prima #return bilangan prima terdekat\n",
    "\n",
    "n = int(input('Masukkan Bilangan : ')) #Membuat fungsi input untuk variabel n / n = 12\n",
    "terdekat = prima_terdekat(n) #Mendefinisikan fungsi prima terdekat\n",
    "print(f\"Bilangan Prima terdekat adalah {terdekat}\") #Mencetak hasil akhir"
   ]
  },
  {
   "cell_type": "code",
   "execution_count": 17,
   "metadata": {},
   "outputs": [
    {
     "name": "stdout",
     "output_type": "stream",
     "text": [
      "24 4 3 2 1 \n",
      "6 3 2 1 \n",
      "2 2 1 \n",
      "1 1 \n"
     ]
    }
   ],
   "source": [
    "def kolom_pertama(bil): #Membuat fungsi kolom_pertama untuk mencari hasil dari semua faktorial yang tersedia\n",
    "    if bil == 0 or bil == 1:\n",
    "        return 1\n",
    "    else:\n",
    "        return bil * kolom_pertama(bil - 1)\n",
    "\n",
    "def deret(n): #Membuat fungsi deret untuk mencetak faktorial yang dikalikan\n",
    "    for i in range(n, 0, -1):\n",
    "        print(kolom_pertama(i), end=\" \") #mencetak nilai faktorial\n",
    "        for j in range(i, 0, -1):\n",
    "            print(j, end=\" \") #mencetak nilai j\n",
    "        print() #Berfungsi agar berbaris\n",
    "\n",
    "n = int(input(\"Masukkan nilai n: \")) #membuat inputan untuk masukan nilai n / n = 4\n",
    "deret(n) #memanggil fungsi deret "
   ]
  },
  {
   "cell_type": "code",
   "execution_count": 20,
   "metadata": {},
   "outputs": [
    {
     "name": "stdout",
     "output_type": "stream",
     "text": [
      "1 2 \n",
      "3 4 \n",
      "5 6 \n",
      "7 8 \n"
     ]
    }
   ],
   "source": [
    "def deret_bilangan(tinggi, lebar):\n",
    "    p = 1 #mendefinisikan nilai p untuk permulaan\n",
    "    for i in range(tinggi): #membuat perulangan bertingkat \n",
    "        for j in range(lebar): \n",
    "            print(p, end=\" \") #mencetak p pada perulangan\n",
    "            p += 1  #agar p bertambah\n",
    "        print() #Membentuk deret berikutnya\n",
    "\n",
    "tinggi = int(input(\"Masukkan tinggi: \")) #menginputkan nilai tinggi /4\n",
    "lebar= int(input(\"Masukkan lebar: \")) #menginputkan nilai lebar /2\n",
    "deret_bilangan(tinggi, lebar) #Mencetak deret bilangan"
   ]
  }
 ],
 "metadata": {
  "kernelspec": {
   "display_name": "Python 3",
   "language": "python",
   "name": "python3"
  },
  "language_info": {
   "codemirror_mode": {
    "name": "ipython",
    "version": 3
   },
   "file_extension": ".py",
   "mimetype": "text/x-python",
   "name": "python",
   "nbconvert_exporter": "python",
   "pygments_lexer": "ipython3",
   "version": "3.10.7"
  }
 },
 "nbformat": 4,
 "nbformat_minor": 2
}
